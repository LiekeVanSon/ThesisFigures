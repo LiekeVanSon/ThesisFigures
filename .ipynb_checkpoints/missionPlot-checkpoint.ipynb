{
 "cells": [
  {
   "cell_type": "code",
   "execution_count": 7,
   "metadata": {},
   "outputs": [],
   "source": [
    "\"\"\"\n",
    "# File to make plot of EM and GW missions between 2020 - 2040\n",
    "\"\"\"\n",
    "import numpy as np\n",
    "import pandas as pd\n",
    "\n",
    "import matplotlib.pyplot as plt\n",
    "import seaborn as sns\n",
    "from astropy.table import Table\n",
    "import astropy.units as u\n",
    "from astropy import constants as const\n",
    "\n",
    "\n",
    "######################################\n",
    "## PLOT setttings\n",
    "plt.rc('font', family='serif')\n",
    "from matplotlib import rc\n",
    "import matplotlib\n",
    "matplotlib.rcParams['mathtext.fontset'] = 'stix'\n",
    "matplotlib.rcParams['font.family'] = 'STIXGeneral'\n",
    "rc('font',**{'family':'sans-serif','sans-serif':['Helvetica']})\n",
    "rc('text', usetex=True)\n",
    "fsize, SMALL_SIZE, MEDIUM_SIZE, BIGGER_SIZE = 30,25,25,30\n",
    "for obj in ['axes','xtick','ytick']:\n",
    "    plt.rc(obj, labelsize=MEDIUM_SIZE)          # controls default text sizes\n",
    "for obj in ['figure','axes']:\n",
    "    plt.rc(obj, titlesize=BIGGER_SIZE)    # fontsize of the tick labels\n",
    "plt.rc('font', size=MEDIUM_SIZE)          # controls default text sizes\n",
    "plt.rc('legend', fontsize=SMALL_SIZE)    # legend fontsize\n",
    "\n"
   ]
  },
  {
   "cell_type": "markdown",
   "metadata": {},
   "source": [
    "# EM missions "
   ]
  },
  {
   "cell_type": "code",
   "execution_count": 78,
   "metadata": {},
   "outputs": [],
   "source": [
    "\n",
    "# Use pandas to read excel file\n",
    "df = pd.read_excel('FutureDetectors.xlsx', header =0, skiprows= lambda x: x in [1], \n",
    "                   sheet_name = 'Electromagnet wave observations')\n",
    "# pour it into Astropy table\n",
    "EM_missions = Table.from_pandas(df)\n",
    "\n",
    "# Add some extra columns\n",
    "EM_missions['mission_start']   = EM_missions['mission_start_year'] + (EM_missions['mission_start_month']-1)/12.\n",
    "EM_missions['mission_end']     = EM_missions['mission_end_year'] + (EM_missions['mission_end_month']-1)/12.\n",
    "EM_missions['mid_mission']     = (EM_missions['mission_start'] + EM_missions['mission_end'])/2.\n",
    "# wavelengths  SKA = ∼4.3 m (70 MHz) to ∼1 cm (30 GHz).\n",
    "EM_missions['wavelen_center']  = (EM_missions['wavelen_end']  + EM_missions['wavelen_start'])/2.\n",
    "EM_missions['freq_center']     = const.c/EM_missions['wavelen_center']\n",
    "\n",
    "# Add Gaia DR\n",
    "GaiaDR = Table()\n",
    "GaiaDR['name']  = ['DR3', 'DR4']#, 'DR5']\n",
    "GaiaDR['year']  = [2022, 2025]\n",
    "GaiaDR['month'] = [6,    12]\n",
    "GaiaDR['date']  = GaiaDR['year'] + (GaiaDR['month']-1)/12.\n",
    "GaiaDR['wavelen_center']  = EM_missions['wavelen_center'][EM_missions['Name'] == 'Gaia'] \n",
    "GaiaDR['freq_center']     = EM_missions['freq_center'][EM_missions['Name'] == 'Gaia'] \n",
    "\n",
    "# display(EM_missions)\n",
    "\n"
   ]
  },
  {
   "cell_type": "markdown",
   "metadata": {},
   "source": [
    "## With Frequency as main axis"
   ]
  },
  {
   "cell_type": "code",
   "execution_count": 77,
   "metadata": {},
   "outputs": [
    {
     "name": "stderr",
     "output_type": "stream",
     "text": [
      "*c* argument looks like a single numeric RGB or RGBA sequence, which should be avoided as value-mapping will have precedence in case its length matches with *x* & *y*.  Please use the *color* keyword-argument or provide a 2-D array with a single row if you intend to specify the same RGB or RGBA value for all points.\n"
     ]
    },
    {
     "name": "stdout",
     "output_type": "stream",
     "text": [
      "SKA2 10.05357482899112\n",
      "JWST 13.313957709606001\n",
      "ELT 14.312467847143491\n",
      "Gaia 14.637971612190672\n",
      "Rubin (LSST) 14.637971612190672\n",
      "SDSS-V 14.46188035313499\n",
      "LUVOIR 15.07888069425589\n",
      "Athena 16.978303391466294\n",
      "XMM-Newton 16.69495766530373\n",
      "Swift  16.984878003679952\n",
      "eRosita 16.97473514370188\n"
     ]
    },
    {
     "data": {
      "image/png": "[encoded data removed]",
      "text/plain": [
       "<Figure size 612x396 with 1 Axes>"
      ]
     },
     "metadata": {
      "needs_background": "light"
     },
     "output_type": "display_data"
    }
   ],
   "source": [
    "\n",
    "fig, ax = plt.subplots(figsize = (8.5,11/2))\n",
    "\n",
    "colors = sns.color_palette(\"plasma\", len(EM_missions) )[::-1]#mako \n",
    "# colors = sns.color_palette(\"RdYlBu_r\", len(EM_missions) )[::-1] \n",
    "\n",
    "\n",
    "############\n",
    "# plot the data\n",
    "for i in range(len(EM_missions)):        \n",
    "    print(EM_missions['Name'][i] , np.log10(EM_missions['freq_center'][i]) )\n",
    "\n",
    "    # shift data and annotations\n",
    "    yshift, text_fact, align, rot = 1, 0.8, 'bottom', 0\n",
    "\n",
    "    ## Plot the missions\n",
    "    #Rubin and SDSS-V are shifted away from their actual wavelen for clarity purposes \n",
    "    if EM_missions['Name'][i] in ['SDSS-V', 'Rubin (LSST)']:\n",
    "        yshift    = 0.9#1000*1e-9\n",
    "        text_fact = 0.6\n",
    "    plt.errorbar((EM_missions['mission_start'][i], EM_missions['mission_end'][i]), (EM_missions['freq_center'][i]*yshift, EM_missions['freq_center'][i]*yshift),\n",
    "             yerr = EM_missions['freq_center'][i]*0.3, c=colors[i], lw = 5)\n",
    "    \n",
    "    # Plot the name of the mission\n",
    "    if EM_missions['Name'][i] in ['eRosita', 'SKA2', 'Rubin (LSST)']:\n",
    "        text_fact, align = 1.25, 'top' #plot below line\n",
    "    plt.text(EM_missions['mid_mission'][i], EM_missions['freq_center'][i]*text_fact,\n",
    "             '$\\mathrm{%s}$'%(EM_missions['Name'][i]), c=colors[i], rotation = rot,\n",
    "             ha = 'center', va = align).set_clip_on(True)\n",
    "\n",
    "# Add some names by hand\n",
    "a = np.where(EM_missions['Name'] == 'XMM-Newton')[0][0]\n",
    "plt.text(2020.5, 3e16,'$\\mathrm{%s}$'%(EM_missions['Name'][a]), \n",
    "         c=colors[a], ha = 'left', va = 'bottom', size = 20 ).set_clip_on(True)\n",
    "\n",
    "b = np.where(EM_missions['Name'] == 'Gaia')[0][0]\n",
    "plt.text(2023, 6e14,'$\\mathrm{%s}$'%(EM_missions['Name'][b]), \n",
    "         c=colors[b], ha = 'left', va = 'top', size = 30 ).set_clip_on(True)\n",
    "\n",
    "c = np.where(EM_missions['Name'] == 'LUVOIR')[0][0]\n",
    "plt.text(2040, 8e14,'$\\mathrm{%s}$'%(EM_missions['Name'][c]), \n",
    "         c=colors[c], ha = 'right', va = 'bottom', size = 20 ).set_clip_on(True)\n",
    "    \n",
    "# Add gaia DR\n",
    "plt.scatter(GaiaDR['date'], GaiaDR['freq_center'], c = colors[b], marker = 'd', s = 100)\n",
    "    \n",
    "    \n",
    "# plotvalues\n",
    "ax.set_ylabel('$\\mathrm{EM \\ frequency}$', fontsize = 25)\n",
    "ax.set_yscale('log')\n",
    "ax.set_ylim(5e17, 5e9)\n",
    "# ax.set_ylim(5e17, 5e12)\n",
    "\n",
    "# move the x-axis tick labels to the top\n",
    "ax.tick_params(axis='x', which='both', labelbottom=False, labeltop=True)\n",
    "ax.xaxis.set_label_position('top')\n",
    "# ax.set_xlabel('$\\mathrm{year}$')\n",
    "ax.set_xlim(2020, 2040)\n",
    "ax.set_xticks([2020,2025,2030,2035,2040])\n",
    "\n",
    "\n",
    "plt.savefig('../EM_missions_20yr_freq.pdf', bbox_inches='tight', transparent=True)\n",
    "\n",
    "plt.show()"
   ]
  },
  {
   "cell_type": "markdown",
   "metadata": {},
   "source": [
    "## Gravitaional wave missions"
   ]
  },
  {
   "cell_type": "code",
   "execution_count": 87,
   "metadata": {},
   "outputs": [
    {
     "data": {
      "text/html": [
       "<i>Table length=9</i>\n",
       "<table id=\"table140508347730968\" class=\"table-striped table-bordered table-condensed\">\n",
       "<thead><tr><th>Name</th><th>mission_start_year</th><th>mission_start_month</th><th>mission_end_year</th><th>mission_end_month</th><th>freq_start</th><th>freq_end</th><th>opt_freq</th><th>DR dates</th><th>Citation</th><th>Notes</th><th>mission_start</th><th>mission_end</th><th>mid_mission</th><th>freq_center</th></tr></thead>\n",
       "<thead><tr><th>str7</th><th>int64</th><th>int64</th><th>int64</th><th>int64</th><th>float64</th><th>float64</th><th>float64</th><th>str84</th><th>str126</th><th>str61</th><th>float64</th><th>float64</th><th>float64</th><th>float64</th></tr></thead>\n",
       "<tr><td>O4</td><td>2023</td><td>5</td><td>2024</td><td>11</td><td>10.0</td><td>10000.0</td><td>200.0</td><td>O4a = oct 2025. (DR = 18 months after end of 6 month obs block), O4b = may 2026</td><td>https://observing.docs.ligo.org/plan/</td><td>--</td><td>2023.3333333333333</td><td>2024.8333333333333</td><td>2024.0833333333333</td><td>5005.0</td></tr>\n",
       "<tr><td>O5</td><td>2027</td><td>1</td><td>2029</td><td>6</td><td>10.0</td><td>10000.0</td><td>200.0</td><td>O5a = ? jan2029 ?, O5b = ? June 2032?</td><td>https://observing.docs.ligo.org/plan/</td><td>--</td><td>2027.0</td><td>2029.4166666666667</td><td>2028.2083333333335</td><td>5005.0</td></tr>\n",
       "<tr><td>Voyager</td><td>2030</td><td>1</td><td>2035</td><td>1</td><td>10.0</td><td>5000.0</td><td>40.0</td><td>--</td><td>https://ui.adsabs.harvard.edu/abs/2020CQGra..37p5003A/abstract, https://dcc.ligo.org/public/0113/T1400316/004/T1400316-v5.pdf</td><td>10 years cont. operation</td><td>2030.0</td><td>2035.0</td><td>2032.5</td><td>2505.0</td></tr>\n",
       "<tr><td>DECIGO</td><td>2037</td><td>1</td><td>2040</td><td>1</td><td>0.001</td><td>100.0</td><td>0.3</td><td>--</td><td>https://ui.adsabs.harvard.edu/abs/2006CQGra..23S.125K/abstract</td><td>start = &quot;2030-ies&quot;</td><td>2037.0</td><td>2040.0</td><td>2038.5</td><td>50.0005</td></tr>\n",
       "<tr><td>LISA</td><td>2037</td><td>1</td><td>2041</td><td>1</td><td>1e-05</td><td>1.0</td><td>0.003</td><td>--</td><td>https://ui.adsabs.harvard.edu/abs/2019CQGra..36j5011R/abstract</td><td>4 year mission + 6 year extension (note Athena-LISA synnergy)</td><td>2037.0</td><td>2041.0</td><td>2039.0</td><td>0.500005</td></tr>\n",
       "<tr><td>TianQin</td><td>2037</td><td>1</td><td>2040</td><td>1</td><td>0.0001</td><td>1.0</td><td>0.1</td><td>--</td><td>https://ui.adsabs.harvard.edu/abs/2016CQGra..33c5010L/abstract</td><td>start = &quot;2030-ies&quot;</td><td>2037.0</td><td>2040.0</td><td>2038.5</td><td>0.50005</td></tr>\n",
       "<tr><td>ET</td><td>2038</td><td>1</td><td>2045</td><td>1</td><td>1.0</td><td>10000.0</td><td>100.0</td><td>--</td><td>https://ui.adsabs.harvard.edu/abs/2020JCAP...03..050M/abstract, https://www.et-gw.eu/</td><td>--</td><td>2038.0</td><td>2045.0</td><td>2041.5</td><td>5000.5</td></tr>\n",
       "<tr><td>CE</td><td>2038</td><td>1</td><td>2045</td><td>1</td><td>5.0</td><td>3750.0</td><td>50.0</td><td>--</td><td>https://arxiv.org/abs/1907.04833</td><td>--</td><td>2038.0</td><td>2045.0</td><td>2041.5</td><td>1877.5</td></tr>\n",
       "<tr><td>PTA</td><td>2020</td><td>1</td><td>2045</td><td>1</td><td>1e-09</td><td>1e-06</td><td>1e-08</td><td>SKA first light 2027, International Pulsar Timing Array = (PPTA, EPTA, and NANOGrav)</td><td>https://ui.adsabs.harvard.edu/abs/2015CQGra..32a5014M/abstract ,https://ui.adsabs.harvard.edu/abs/2019PhRvD.100j4028H/abstract</td><td>--</td><td>2020.0</td><td>2045.0</td><td>2032.5</td><td>5.005e-07</td></tr>\n",
       "</table>"
      ],
      "text/plain": [
       "<Table length=9>\n",
       "  Name  mission_start_year ...    mid_mission     freq_center\n",
       "  str7        int64        ...      float64         float64  \n",
       "------- ------------------ ... ------------------ -----------\n",
       "     O4               2023 ... 2024.0833333333333      5005.0\n",
       "     O5               2027 ... 2028.2083333333335      5005.0\n",
       "Voyager               2030 ...             2032.5      2505.0\n",
       " DECIGO               2037 ...             2038.5     50.0005\n",
       "   LISA               2037 ...             2039.0    0.500005\n",
       "TianQin               2037 ...             2038.5     0.50005\n",
       "     ET               2038 ...             2041.5      5000.5\n",
       "     CE               2038 ...             2041.5      1877.5\n",
       "    PTA               2020 ...             2032.5   5.005e-07"
      ]
     },
     "metadata": {},
     "output_type": "display_data"
    }
   ],
   "source": [
    "# Use pandas to read excel file\n",
    "df = pd.read_excel('FutureDetectors.xlsx', header =0, \n",
    "                   sheet_name = 'Gravitational wave observations')\n",
    "# pour it into Astropy table\n",
    "GW_missions = Table.from_pandas(df)\n",
    "\n",
    "# Add some extra columns\n",
    "GW_missions['mission_start']   = GW_missions['mission_start_year'] + (GW_missions['mission_start_month']-1)/12.\n",
    "GW_missions['mission_end']     = GW_missions['mission_end_year'] + (GW_missions['mission_end_month']-1)/12.\n",
    "GW_missions['mid_mission']     = (GW_missions['mission_start'] + GW_missions['mission_end'])/2.\n",
    "GW_missions['freq_center'] = (GW_missions['freq_end']  + GW_missions['freq_start'])/2.\n",
    "\n",
    "\n",
    "display(GW_missions)\n",
    "\n",
    "# Add SKA-era PTAs “Square-Kilometre-Array” (SKA) (e.g. Terzian & Lazio 2006).\n",
    "#     Phase 1: Providing ~10% of the total collecting area at low and mid frequencies by 2023 (SKA1).[29]\n",
    "#     Phase 2: Completion of the full array (SKA2) at low and mid frequencies by 2030.[30]\n",
    "# 70 Months From July 01, 2021  = May 01, 2027 \n",
    "# souce https://www.skao.int/en/science-users/159/scientific-timeline\n",
    "SKADR = Table()\n",
    "\n",
    "SKADR['name']  = ['SKA2']#'SKA1', \n",
    "SKADR['year']  = [2029]#2021, \n",
    "SKADR['month'] = [5]#7,   \n",
    "SKADR['date']  = SKADR['year'] + (SKADR['month']-1)/12.\n",
    "SKADR['opt_freq']     = GW_missions['opt_freq'][GW_missions['Name'] == 'PTA'] "
   ]
  },
  {
   "cell_type": "code",
   "execution_count": 92,
   "metadata": {
    "scrolled": false
   },
   "outputs": [
    {
     "data": {
      "image/png": "[encoded data removed]",
      "text/plain": [
       "<Figure size 612x432 with 1 Axes>"
      ]
     },
     "metadata": {
      "needs_background": "light"
     },
     "output_type": "display_data"
    }
   ],
   "source": [
    "\n",
    "fig, ax = plt.subplots(figsize = (8.5,6))\n",
    "\n",
    "CEET_col = '#2c93bf'\n",
    "space_col = '#029656'\n",
    "voy_col = '#53C2A3'\n",
    "O4O5_col = '#9ecc5e'\n",
    "PTA_col = '#d1c54f'\n",
    "colors = [PTA_col, O4O5_col,O4O5_col,voy_col, space_col,space_col,space_col, CEET_col, CEET_col]\n",
    "# colors = ['#B2D927', '#1E9C79','#1E9C79','#53C2A3', '#36A458', '#36A458', '#36A458', '#005931','#005931']\n",
    "\n",
    "GW_missions.sort('mission_start')\n",
    "\n",
    "############\n",
    "# plot the actual data\n",
    "for i in range(len(GW_missions)):\n",
    "    if GW_missions['Name'][i] == 'BBO':\n",
    "        continue\n",
    "    plt.errorbar((GW_missions['mission_start'][i], GW_missions['mission_end'][i]), (GW_missions['opt_freq'][i], GW_missions['opt_freq'][i]),\n",
    "             yerr = GW_missions['opt_freq'][i]*0.5, c=colors[i], lw = 5)\n",
    "    \n",
    "    # Plot the name of the mission\n",
    "    text_fact, align = 1.15, 'bottom'\n",
    "    if GW_missions['Name'][i] in ['CE', 'TianQin', 'Voyager', 'LISA']:\n",
    "        text_fact, align = 0.5, 'top' #plot below line\n",
    "    plt.text((GW_missions['mid_mission'][i]+ 3*GW_missions['mission_start'][i])/4, GW_missions['opt_freq'][i]*text_fact,\n",
    "             '$\\mathrm{%s}$'%(GW_missions['Name'][i]), c=colors[i], ha = 'center', va = align).set_clip_on(True)\n",
    "\n",
    "    \n",
    "# Add SKA DR\n",
    "plt.scatter(SKADR['date'], SKADR['opt_freq'], c = colors[0], marker = 'd', s = 100)\n",
    "plt.text(SKADR['date'], SKADR['opt_freq']*1.15, s = '$\\mathrm{%s}$'%(SKADR['name'][0]),\n",
    "         c = colors[0], fontsize = 18, rotation =20)\n",
    "    \n",
    "\n",
    "\n",
    "# plotvalues\n",
    "ax.set_ylabel('$\\mathrm{GW \\ frequency}$', fontsize = 25)\n",
    "ax.set_yscale('log')\n",
    "ax.set_ylim(1e-9, 5e3)\n",
    "ax.set_xlabel('$\\mathrm{year}$')\n",
    "ax.set_xlim(2020, 2040)\n",
    "ax.set_xticks([2020,2025,2030,2035,2040])\n",
    "\n",
    "#Remove spine\n",
    "# sns.despine(top=True, right=True, left=False, bottom=False)\n",
    "\n",
    "plt.savefig('../GW_missions_20yr.pdf', bbox_inches='tight', transparent=True)\n",
    "\n",
    "plt.show()"
   ]
  },
  {
   "cell_type": "code",
   "execution_count": null,
   "metadata": {},
   "outputs": [],
   "source": []
  },
  {
   "cell_type": "code",
   "execution_count": null,
   "metadata": {},
   "outputs": [],
   "source": []
  },
  {
   "cell_type": "code",
   "execution_count": null,
   "metadata": {},
   "outputs": [],
   "source": []
  },
  {
   "cell_type": "markdown",
   "metadata": {},
   "source": [
    "## With wavelen as main axis"
   ]
  },
  {
   "cell_type": "code",
   "execution_count": 38,
   "metadata": {
    "scrolled": false
   },
   "outputs": [
    {
     "name": "stderr",
     "output_type": "stream",
     "text": [
      "*c* argument looks like a single numeric RGB or RGBA sequence, which should be avoided as value-mapping will have precedence in case its length matches with *x* & *y*.  Please use the *color* keyword-argument or provide a 2-D array with a single row if you intend to specify the same RGB or RGBA value for all points.\n",
      "/Users/lieke/anaconda3/lib/python3.7/site-packages/ipykernel_launcher.py:40: UserWarning: FixedFormatter should only be used together with FixedLocator\n"
     ]
    },
    {
     "data": {
      "image/png": "[encoded data removed]",
      "text/plain": [
       "<Figure size 612x396 with 2 Axes>"
      ]
     },
     "metadata": {
      "needs_background": "light"
     },
     "output_type": "display_data"
    }
   ],
   "source": [
    "\n",
    "fig, ax = plt.subplots(figsize = (8.5,11/2))\n",
    "\n",
    "colors = sns.color_palette(\"plasma\", len(EM_missions) )[::-1]#mako \n",
    "\n",
    "\n",
    "############\n",
    "# plot the actual data\n",
    "for i in range(len(EM_missions)):\n",
    "    plt.errorbar((EM_missions['mission_start'][i], EM_missions['mission_end'][i]), (EM_missions['wavelen_center'][i], EM_missions['wavelen_center'][i]),\n",
    "             yerr = EM_missions['wavelen_center'][i]*0.2, c=colors[i], lw = 5)\n",
    "    \n",
    "    # Plot the name of the mission\n",
    "    text_fact, align = 1.2, 'bottom'\n",
    "    if EM_missions['Name'][i] == 'SDSS-V':\n",
    "        text_fact, align = 0.8, 'top' #plot below line\n",
    "    plt.text(EM_missions['mid_mission'][i], EM_missions['wavelen_center'][i]*text_fact,\n",
    "             '$\\mathrm{%s}$'%(EM_missions['Name'][i]), c=colors[i], ha = 'center', va = align).set_clip_on(True)\n",
    "\n",
    "    \n",
    "# Add gaia DR\n",
    "plt.scatter(GaiaDR['date'], GaiaDR['wavelen_center'], c = colors[1], marker = 'd', s = 100)\n",
    "       \n",
    "# plotvalues\n",
    "ax.set_ylabel('$\\mathrm{wavelength}$', fontsize = 30)\n",
    "ax.set_yscale('log')\n",
    "ax.set_ylim(1e-10, 1e-4)\n",
    "\n",
    "# Second axis lambda = c/nu, nu  = c/lambda\n",
    "ax2 = ax.twinx()\n",
    "ax2.set_ylabel('$\\mathrm{frequency}$', fontsize = 30)\n",
    "# set ticks and limits for shared axis\n",
    "ax2.set_ylim(ax.get_ylim())\n",
    "freq_ticks = []\n",
    "for tick in ax.get_yticks():\n",
    "    # Convert lambda to nu\n",
    "    tick = (const.c/(tick*u.m)).value\n",
    "    # Also display the frequency in log and round it\n",
    "    freq_ticks.append(np.round(np.log10(tick),1 ))\n",
    "ax2.set_yticklabels([\"$%s$\"%(nu) for nu in freq_ticks])\n",
    "\n",
    "\n",
    "# move the x-axis tick labels to the top\n",
    "# ax.tick_params(axis='x', which='both', labelbottom=False, labeltop=True)\n",
    "# ax.xaxis.set_label_position('top')\n",
    "ax.set_xlabel('$\\mathrm{year}$')\n",
    "ax.set_xlim(2020, 2040)\n",
    "ax.set_xticks([2020,2025,2030,2035,2040])\n",
    "\n",
    "\n",
    "plt.savefig('../EM_missions_20yr.pdf', bbox_inches='tight', transparent=True)\n",
    "\n",
    "plt.show()"
   ]
  },
  {
   "cell_type": "code",
   "execution_count": null,
   "metadata": {},
   "outputs": [],
   "source": []
  },
  {
   "cell_type": "code",
   "execution_count": 2,
   "metadata": {},
   "outputs": [
    {
     "data": {
      "text/html": [
       "<i>Table length=11</i>\n",
       "<table id=\"table140407523052512\" class=\"table-striped table-bordered table-condensed\">\n",
       "<thead><tr><th>Name</th><th>mission_start_year</th><th>mission_start_month</th><th>mission_start</th><th>mission_end_year</th><th>mission_end_month</th><th>mission_end</th><th>mid_mission</th><th>wavelen_start</th><th>wavelen_end</th><th>wavelen_center</th><th>freq_center</th></tr></thead>\n",
       "<thead><tr><th></th><th></th><th></th><th></th><th></th><th></th><th></th><th></th><th>m</th><th>m</th><th>m</th><th>1 / s</th></tr></thead>\n",
       "<thead><tr><th>str12</th><th>int64</th><th>int64</th><th>float64</th><th>int64</th><th>int64</th><th>float64</th><th>float64</th><th>float64</th><th>float64</th><th>float64</th><th>float64</th></tr></thead>\n",
       "<tr><td>SKA2</td><td>2029</td><td>5</td><td>2029.3333333333333</td><td>2045</td><td>1</td><td>2045.0</td><td>2037.1666666666665</td><td>0.01</td><td>0.043</td><td>0.0265</td><td>11312922943.396227</td></tr>\n",
       "<tr><td>JWST</td><td>2022</td><td>6</td><td>2022.4166666666667</td><td>2032</td><td>1</td><td>2032.0</td><td>2027.2083333333335</td><td>6e-07</td><td>2.8499999999999998e-05</td><td>1.455e-05</td><td>20604292646048.11</td></tr>\n",
       "<tr><td>ELT</td><td>2027</td><td>1</td><td>2027.0</td><td>2045</td><td>1</td><td>2045.0</td><td>2036.0</td><td>4.6999999999999995e-07</td><td>2.4500000000000003e-06</td><td>1.46e-06</td><td>205337300000000.0</td></tr>\n",
       "<tr><td>Gaia</td><td>2013</td><td>1</td><td>2013.0</td><td>2025</td><td>1</td><td>2025.0</td><td>2019.0</td><td>3.3e-07</td><td>1.0500000000000001e-06</td><td>6.900000000000001e-07</td><td>434481823188405.75</td></tr>\n",
       "<tr><td>Rubin (LSST)</td><td>2024</td><td>1</td><td>2024.0</td><td>2034</td><td>1</td><td>2034.0</td><td>2029.0</td><td>3.2e-07</td><td>2.06e-06</td><td>1.19e-06</td><td>251926435294117.62</td></tr>\n",
       "<tr><td>SDSS-V</td><td>2020</td><td>10</td><td>2020.75</td><td>2025</td><td>1</td><td>2025.0</td><td>2022.875</td><td>3.7e-07</td><td>1.6999999999999998e-06</td><td>1.0349999999999998e-06</td><td>289654548792270.56</td></tr>\n",
       "<tr><td>LUVOIR</td><td>2039</td><td>1</td><td>2039.0</td><td>2046</td><td>1</td><td>2046.0</td><td>2042.5</td><td>1.0000000000000001e-07</td><td>4.0000000000000003e-07</td><td>2.5000000000000004e-07</td><td>1199169831999999.8</td></tr>\n",
       "<tr><td>Athena</td><td>2035</td><td>1</td><td>2035.0</td><td>2039</td><td>1</td><td>2039.0</td><td>2037.0</td><td>1.03e-10</td><td>6.200000000000001e-09</td><td>3.1515000000000005e-09</td><td>9.512691036014595e+16</td></tr>\n",
       "<tr><td>XMM-Newton</td><td>1999</td><td>1</td><td>1999.0</td><td>2022</td><td>1</td><td>2022.0</td><td>2010.5</td><td>1.03e-10</td><td>1.2e-08</td><td>6.0515e-09</td><td>4.9540189705031816e+16</td></tr>\n",
       "<tr><td>Swift</td><td>2004</td><td>1</td><td>2004.0</td><td>2010</td><td>1</td><td>2010.0</td><td>2007.0</td><td>8.3e-12</td><td>6.200000000000001e-09</td><td>3.1041500000000003e-09</td><td>9.657795467358213e+16</td></tr>\n",
       "<tr><td>eRosita</td><td>2019</td><td>7</td><td>2019.5</td><td>2026</td><td>1</td><td>2026.0</td><td>2022.75</td><td>1.55e-10</td><td>6.200000000000001e-09</td><td>3.1775000000000007e-09</td><td>9.434853123524782e+16</td></tr>\n",
       "</table>"
      ],
      "text/plain": [
       "<Table length=11>\n",
       "    Name     mission_start_year ...      freq_center      \n",
       "                                ...         1 / s         \n",
       "   str12           int64        ...        float64        \n",
       "------------ ------------------ ... ----------------------\n",
       "        SKA2               2029 ...     11312922943.396227\n",
       "        JWST               2022 ...      20604292646048.11\n",
       "         ELT               2027 ...      205337300000000.0\n",
       "        Gaia               2013 ...     434481823188405.75\n",
       "Rubin (LSST)               2024 ...     251926435294117.62\n",
       "      SDSS-V               2020 ...     289654548792270.56\n",
       "      LUVOIR               2039 ...     1199169831999999.8\n",
       "      Athena               2035 ...  9.512691036014595e+16\n",
       "  XMM-Newton               1999 ... 4.9540189705031816e+16\n",
       "       Swift               2004 ...  9.657795467358213e+16\n",
       "     eRosita               2019 ...  9.434853123524782e+16"
      ]
     },
     "metadata": {},
     "output_type": "display_data"
    }
   ],
   "source": [
    "\n",
    "EM_missions = Table()\n",
    "\n",
    "\n",
    "EM_missions['Name']                = ['SKA2', 'JWST','ELT','Gaia','Rubin (LSST)','SDSS-V','LUVOIR', 'Athena','XMM-Newton','Swift','eRosita']\n",
    "EM_missions['mission_start_year']  = [2029, 2022, 2027, 2013,  2024         , 2020   ,  2039  ,    2035 ,    1999    ,  2004 , 2019]\n",
    "EM_missions['mission_start_month'] = [5,  6 ,  1,  1, 1, 10, 1 ,1, 1, 1, 7]\n",
    "EM_missions['mission_start']       = EM_missions['mission_start_year'] + (EM_missions['mission_start_month']-1)/12.\n",
    "\n",
    "# Ending dates\n",
    "EM_missions['mission_end_year']  = [2045, 2032, 2045, 2025, 2034, 2025, 2046,2039, 2022, 2010, 2026]\n",
    "EM_missions['mission_end_month'] = [1, 1, 1 , 1, 1, 1, 1, 1, 1, 1, 1]\n",
    "EM_missions['mission_end']       = EM_missions['mission_end_year'] + (EM_missions['mission_end_month']-1)/12.\n",
    "\n",
    "EM_missions['mid_mission']       = (EM_missions['mission_start'] + EM_missions['mission_end'])/2.\n",
    "\n",
    "# wavelengths  SKA = ∼4.3 m (70 MHz) to ∼1 cm (30 GHz).\n",
    "## !!! NOTE Rubin and SDSS-V are shifted away from their actual wavelen for clarity purposes in the plot !!!\n",
    "EM_missions['wavelen_start']  = [1*1e-2, 0.6*1e-6, 0.47*1e-6,    330*1e-9, 320*1e-9               , 0.37*1e-6,100*1e-9 , 1.03*1e-10, 1.03*1e-10 , 8.3*1e-12, 1.55*1e-10] * u.m\n",
    "EM_missions['wavelen_end']    = [4.3*1e-2,    28.5*1e-6, 2.45*1e-6,  1050*1e-9, 1060*1e-9 + (1000*1e-9), 1.7*1e-6, 400*1e-9 , 6.2*1e-9  , 1.2*1e-8   , 6.2*1e-9 , 6.2*1e-9]* u.m\n",
    "\n",
    "EM_missions['wavelen_center'] = (EM_missions['wavelen_end']  + EM_missions['wavelen_start'])/2.\n",
    "EM_missions['freq_center']    = const.c/EM_missions['wavelen_center']\n",
    "\n",
    "display(EM_missions)\n",
    "\n",
    "GaiaDR = Table()\n",
    "\n",
    "GaiaDR['name']  = ['DR3', 'DR4']#, 'DR5']\n",
    "GaiaDR['year']  = [2022, 2025]\n",
    "GaiaDR['month'] = [6,    12]\n",
    "GaiaDR['date']  = GaiaDR['year'] + (GaiaDR['month']-1)/12.\n",
    "GaiaDR['wavelen_center']  = EM_missions['wavelen_center'][EM_missions['Name'] == 'Gaia'] \n",
    "GaiaDR['freq_center']     = EM_missions['freq_center'][EM_missions['Name'] == 'Gaia'] \n",
    "\n",
    "\n",
    "\n"
   ]
  },
  {
   "cell_type": "code",
   "execution_count": null,
   "metadata": {},
   "outputs": [],
   "source": []
  },
  {
   "cell_type": "code",
   "execution_count": 81,
   "metadata": {},
   "outputs": [
    {
     "data": {
      "text/html": [
       "<i>Table length=9</i>\n",
       "<table id=\"table140508376101776\" class=\"table-striped table-bordered table-condensed\">\n",
       "<thead><tr><th>Name</th><th>opt_freq</th><th>mission_start_year</th><th>mission_start_month</th><th>mission_start</th><th>mission_end_year</th><th>mission_end_month</th><th>mission_end</th><th>mission_len</th><th>mid_mission</th><th>freq_start</th><th>freq_end</th><th>freq_center</th></tr></thead>\n",
       "<thead><tr><th>str7</th><th>float64</th><th>int64</th><th>int64</th><th>float64</th><th>int64</th><th>int64</th><th>float64</th><th>float64</th><th>float64</th><th>float64</th><th>float64</th><th>float64</th></tr></thead>\n",
       "<tr><td>O4</td><td>200.0</td><td>2023</td><td>5</td><td>2023.4166666666667</td><td>2024</td><td>11</td><td>2024.9166666666667</td><td>1.5</td><td>2024.1666666666667</td><td>10.0</td><td>10000.0</td><td>5005.0</td></tr>\n",
       "<tr><td>O5</td><td>200.0</td><td>2027</td><td>0</td><td>2027.0</td><td>2029</td><td>6</td><td>2029.5</td><td>2.5</td><td>2028.25</td><td>10.0</td><td>10000.0</td><td>5005.0</td></tr>\n",
       "<tr><td>Voyager</td><td>40.0</td><td>2030</td><td>0</td><td>2030.0</td><td>2035</td><td>0</td><td>2035.0</td><td>5.0</td><td>2032.5</td><td>10.0</td><td>5000.0</td><td>2505.0</td></tr>\n",
       "<tr><td>DECIGO</td><td>0.3</td><td>2037</td><td>0</td><td>2037.0</td><td>2040</td><td>0</td><td>2040.0</td><td>3.0</td><td>2038.5</td><td>0.001</td><td>100.0</td><td>50.0005</td></tr>\n",
       "<tr><td>LISA</td><td>0.003</td><td>2037</td><td>0</td><td>2037.0</td><td>2041</td><td>0</td><td>2041.0</td><td>4.0</td><td>2039.0</td><td>1e-05</td><td>1.0</td><td>0.500005</td></tr>\n",
       "<tr><td>TianQin</td><td>0.1</td><td>2037</td><td>0</td><td>2037.0</td><td>2040</td><td>0</td><td>2040.0</td><td>3.0</td><td>2038.5</td><td>0.0001</td><td>1.0</td><td>0.50005</td></tr>\n",
       "<tr><td>ET</td><td>100.0</td><td>2038</td><td>0</td><td>2038.0</td><td>2045</td><td>0</td><td>2045.0</td><td>7.0</td><td>2041.5</td><td>1.0</td><td>10000.0</td><td>5000.5</td></tr>\n",
       "<tr><td>CE</td><td>50.0</td><td>2038</td><td>0</td><td>2038.0</td><td>2045</td><td>0</td><td>2045.0</td><td>7.0</td><td>2041.5</td><td>5.0</td><td>3750.0</td><td>1877.5</td></tr>\n",
       "<tr><td>PTA</td><td>1e-08</td><td>2020</td><td>0</td><td>2020.0</td><td>2045</td><td>0</td><td>2045.0</td><td>25.0</td><td>2032.5</td><td>1e-09</td><td>1e-06</td><td>5.005e-07</td></tr>\n",
       "</table>"
      ],
      "text/plain": [
       "<Table length=9>\n",
       "  Name  opt_freq mission_start_year ... freq_start freq_end freq_center\n",
       "  str7  float64        int64        ...  float64   float64    float64  \n",
       "------- -------- ------------------ ... ---------- -------- -----------\n",
       "     O4    200.0               2023 ...       10.0  10000.0      5005.0\n",
       "     O5    200.0               2027 ...       10.0  10000.0      5005.0\n",
       "Voyager     40.0               2030 ...       10.0   5000.0      2505.0\n",
       " DECIGO      0.3               2037 ...      0.001    100.0     50.0005\n",
       "   LISA    0.003               2037 ...      1e-05      1.0    0.500005\n",
       "TianQin      0.1               2037 ...     0.0001      1.0     0.50005\n",
       "     ET    100.0               2038 ...        1.0  10000.0      5000.5\n",
       "     CE     50.0               2038 ...        5.0   3750.0      1877.5\n",
       "    PTA    1e-08               2020 ...      1e-09    1e-06   5.005e-07"
      ]
     },
     "metadata": {},
     "output_type": "display_data"
    }
   ],
   "source": [
    "### NOTE Voyager is shifted for clarity purposes!! ##\n",
    "## ET, CE are all indicative estimates of '2030-ies'\n",
    "\n",
    "GW_missions = Table()\n",
    "\n",
    "GW_missions['Name']     = ['O4', 'O5', 'Voyager', 'DECIGO', 'LISA', 'TianQin', 'ET', 'CE', 'PTA']\n",
    "GW_missions['opt_freq'] = [200 , 200 ,    40    ,   0.3   ,  3e-3 ,   1e-1   ,   100 , 50 , 1e-8]\n",
    "        \n",
    "# Starting dates\n",
    "GW_missions['mission_start_year']  = [2023, 2027, 2030, 2037, 2037, 2037, 2038, 2038, 2020]\n",
    "GW_missions['mission_start_month'] = [5, 0,0, 0,0, 0,0, 0,0]\n",
    "GW_missions['mission_start']       = GW_missions['mission_start_year'] + (GW_missions['mission_start_month']/12.)\n",
    "\n",
    "# Ending dates\n",
    "GW_missions['mission_end_year']  = [2024, 2029, 2035, 2040, 2041, 2040, 2045,  2045,  2045]\n",
    "GW_missions['mission_end_month'] = [11, 6,0, 0,0, 0,0, 0,0]\n",
    "GW_missions['mission_end']       = GW_missions['mission_end_year'] + (GW_missions['mission_end_month']/12.)\n",
    "\n",
    "GW_missions['mission_len']       = GW_missions['mission_end'] - GW_missions['mission_start']\n",
    "GW_missions['mid_mission']       = (GW_missions['mission_start'] + GW_missions['mission_end'])/2.\n",
    "\n",
    "# frequencies\n",
    "GW_missions['freq_start']  = [10,    10,    10,     1e-3, 1e-5, 1e-4, 1     , 5,        1e-9]\n",
    "GW_missions['freq_end']    = [10*1e3,10*1e3,5*1e3, 100,     1, 1  , 10*1e3, 3.75*1e3, 1e-6]\n",
    "GW_missions['freq_center'] = (GW_missions['freq_end']  + GW_missions['freq_start'])/2.\n",
    "\n",
    "# GW_missions.sort('freq_start')\n",
    "\n",
    "display(GW_missions)\n",
    "\n",
    "\n",
    "\n",
    "# Add SKA-era PTAs “Square-Kilometre-Array” (SKA) (e.g. Terzian & Lazio 2006).\n",
    "#     Phase 1: Providing ~10% of the total collecting area at low and mid frequencies by 2023 (SKA1).[29]\n",
    "#     Phase 2: Completion of the full array (SKA2) at low and mid frequencies by 2030.[30]\n",
    "# 70 Months From July 01, 2021  = May 01, 2027 \n",
    "# souce https://www.skao.int/en/science-users/159/scientific-timeline\n",
    "SKADR = Table()\n",
    "\n",
    "SKADR['name']  = ['SKA2']#'SKA1', \n",
    "SKADR['year']  = [2029]#2021, \n",
    "SKADR['month'] = [5]#7,   \n",
    "SKADR['date']  = SKADR['year'] + (SKADR['month']-1)/12.\n",
    "SKADR['opt_freq']     = GW_missions['opt_freq'][GW_missions['Name'] == 'PTA'] \n",
    "\n"
   ]
  }
 ],
 "metadata": {
  "kernelspec": {
   "display_name": "Python 3",
   "language": "python",
   "name": "python3"
  },
  "language_info": {
   "codemirror_mode": {
    "name": "ipython",
    "version": 3
   },
   "file_extension": ".py",
   "mimetype": "text/x-python",
   "name": "python",
   "nbconvert_exporter": "python",
   "pygments_lexer": "ipython3",
   "version": "3.7.1"
  }
 },
 "nbformat": 4,
 "nbformat_minor": 4
}
