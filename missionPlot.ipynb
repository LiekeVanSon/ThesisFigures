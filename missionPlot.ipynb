{
 "cells": [
  {
   "cell_type": "code",
   "execution_count": 1,
   "metadata": {},
   "outputs": [],
   "source": [
    "\"\"\"\n",
    "# File to make plot of EM and GW missions between 2020 - 2040\n",
    "\"\"\"\n",
    "import numpy as np\n",
    "import pandas as pd\n",
    "\n",
    "import matplotlib.pyplot as plt\n",
    "import seaborn as sns\n",
    "from astropy.table import Table\n",
    "import astropy.units as u\n",
    "from astropy import constants as const\n",
    "\n",
    "\n",
    "######################################\n",
    "## PLOT setttings\n",
    "plt.rc('font', family='serif')\n",
    "from matplotlib import rc\n",
    "import matplotlib\n",
    "matplotlib.rcParams['mathtext.fontset'] = 'stix'\n",
    "matplotlib.rcParams['font.family'] = 'STIXGeneral'\n",
    "rc('font',**{'family':'sans-serif','sans-serif':['Helvetica']})\n",
    "rc('text', usetex=True)\n",
    "fsize, SMALL_SIZE, MEDIUM_SIZE, BIGGER_SIZE = 30,25,25,30\n",
    "for obj in ['axes','xtick','ytick']:\n",
    "    plt.rc(obj, labelsize=MEDIUM_SIZE)          # controls default text sizes\n",
    "for obj in ['figure','axes']:\n",
    "    plt.rc(obj, titlesize=BIGGER_SIZE)    # fontsize of the tick labels\n",
    "plt.rc('font', size=MEDIUM_SIZE)          # controls default text sizes\n",
    "plt.rc('legend', fontsize=SMALL_SIZE)    # legend fontsize\n",
    "\n"
   ]
  },
  {
   "cell_type": "markdown",
   "metadata": {},
   "source": [
    "# EM missions "
   ]
  },
  {
   "cell_type": "code",
   "execution_count": 2,
   "metadata": {},
   "outputs": [],
   "source": [
    "\n",
    "# Use pandas to read excel file\n",
    "df = pd.read_excel('FutureDetectors.xlsx', header =0, skiprows= lambda x: x in [1], \n",
    "                   sheet_name = 'Electromagnet wave observations')\n",
    "# pour it into Astropy table\n",
    "EM_missions = Table.from_pandas(df)\n",
    "\n",
    "# Add some extra columns\n",
    "EM_missions['mission_start']   = EM_missions['mission_start_year'] + (EM_missions['mission_start_month']-1)/12.\n",
    "EM_missions['mission_end']     = EM_missions['mission_end_year'] + (EM_missions['mission_end_month']-1)/12.\n",
    "EM_missions['mid_mission']     = (EM_missions['mission_start'] + EM_missions['mission_end'])/2.\n",
    "# wavelengths  SKA = ∼4.3 m (70 MHz) to ∼1 cm (30 GHz).\n",
    "EM_missions['wavelen_center']  = (EM_missions['wavelen_end']  + EM_missions['wavelen_start'])/2.\n",
    "EM_missions['freq_center']     = const.c/EM_missions['wavelen_center']\n",
    "\n",
    "# Add Gaia DR\n",
    "GaiaDR = Table()\n",
    "GaiaDR['name']  = ['DR3', 'DR4']#, 'DR5']\n",
    "GaiaDR['year']  = [2022, 2025]\n",
    "GaiaDR['month'] = [6,    12]\n",
    "GaiaDR['date']  = GaiaDR['year'] + (GaiaDR['month']-1)/12.\n",
    "GaiaDR['wavelen_center']  = EM_missions['wavelen_center'][EM_missions['Name'] == 'Gaia'] \n",
    "GaiaDR['freq_center']     = EM_missions['freq_center'][EM_missions['Name'] == 'Gaia'] \n",
    "\n",
    "# display(EM_missions)\n",
    "\n"
   ]
  },
  {
   "cell_type": "markdown",
   "metadata": {},
   "source": [
    "## With Frequency as main axis"
   ]
  },
  {
   "cell_type": "code",
   "execution_count": 3,
   "metadata": {},
   "outputs": [
    {
     "name": "stderr",
     "output_type": "stream",
     "text": [
      "*c* argument looks like a single numeric RGB or RGBA sequence, which should be avoided as value-mapping will have precedence in case its length matches with *x* & *y*.  Please use the *color* keyword-argument or provide a 2-D array with a single row if you intend to specify the same RGB or RGBA value for all points.\n"
     ]
    },
    {
     "name": "stdout",
     "output_type": "stream",
     "text": [
      "SKA2 10.05357482899112\n",
      "JWST 13.313957709606001\n",
      "ELT 14.312467847143491\n",
      "Gaia 14.637971612190672\n",
      "Rubin (LSST) 14.637971612190672\n",
      "SDSS-V 14.46188035313499\n",
      "LUVOIR 15.07888069425589\n",
      "Athena 16.978303391466294\n",
      "XMM-Newton 16.69495766530373\n",
      "Swift  16.984878003679952\n",
      "eRosita 16.97473514370188\n"
     ]
    },
    {
     "data": {
      "image/png": "[encoded data removed]",
      "text/plain": [
       "<Figure size 612x396 with 1 Axes>"
      ]
     },
     "metadata": {
      "needs_background": "light"
     },
     "output_type": "display_data"
    }
   ],
   "source": [
    "\n",
    "fig, ax = plt.subplots(figsize = (8.5,11/2))\n",
    "\n",
    "colors = sns.color_palette(\"plasma\", len(EM_missions) )[::-1]#mako \n",
    "# colors = sns.color_palette(\"RdYlBu_r\", len(EM_missions) )[::-1] \n",
    "\n",
    "\n",
    "############\n",
    "# plot the data\n",
    "for i in range(len(EM_missions)):        \n",
    "    print(EM_missions['Name'][i] , np.log10(EM_missions['freq_center'][i]) )\n",
    "\n",
    "    # shift data and annotations\n",
    "    yshift, text_fact, align, rot = 1, 0.8, 'bottom', 0\n",
    "\n",
    "    ## Plot the missions\n",
    "    #Rubin and SDSS-V are shifted away from their actual wavelen for clarity purposes \n",
    "    if EM_missions['Name'][i] in ['SDSS-V', 'Rubin (LSST)']:\n",
    "        yshift    = 0.9#1000*1e-9\n",
    "        text_fact = 0.6\n",
    "    plt.errorbar((EM_missions['mission_start'][i], EM_missions['mission_end'][i]), (EM_missions['freq_center'][i]*yshift, EM_missions['freq_center'][i]*yshift),\n",
    "             yerr = EM_missions['freq_center'][i]*0.3, c=colors[i], lw = 5)\n",
    "    \n",
    "    # Plot the name of the mission\n",
    "    if EM_missions['Name'][i] in ['eRosita', 'SKA2', 'Rubin (LSST)']:\n",
    "        text_fact, align = 1.25, 'top' #plot below line\n",
    "    plt.text(EM_missions['mid_mission'][i], EM_missions['freq_center'][i]*text_fact,\n",
    "             '$\\mathrm{%s}$'%(EM_missions['Name'][i]), c=colors[i], rotation = rot,\n",
    "             ha = 'center', va = align).set_clip_on(True)\n",
    "\n",
    "# Add some names by hand\n",
    "a = np.where(EM_missions['Name'] == 'XMM-Newton')[0][0]\n",
    "plt.text(2020.5, 3e16,'$\\mathrm{%s}$'%(EM_missions['Name'][a]), \n",
    "         c=colors[a], ha = 'left', va = 'bottom', size = 20 ).set_clip_on(True)\n",
    "\n",
    "b = np.where(EM_missions['Name'] == 'Gaia')[0][0]\n",
    "plt.text(2023, 6e14,'$\\mathrm{%s}$'%(EM_missions['Name'][b]), \n",
    "         c=colors[b], ha = 'left', va = 'top', size = 30 ).set_clip_on(True)\n",
    "\n",
    "c = np.where(EM_missions['Name'] == 'LUVOIR')[0][0]\n",
    "plt.text(2040, 8e14,'$\\mathrm{%s}$'%(EM_missions['Name'][c]), \n",
    "         c=colors[c], ha = 'right', va = 'bottom', size = 20 ).set_clip_on(True)\n",
    "    \n",
    "# Add gaia DR\n",
    "plt.scatter(GaiaDR['date'], GaiaDR['freq_center'], c = colors[b], marker = 'd', s = 100)\n",
    "    \n",
    "    \n",
    "# plotvalues\n",
    "ax.set_ylabel('$\\mathrm{EM \\ frequency}$', fontsize = 25)\n",
    "ax.set_yscale('log')\n",
    "ax.set_ylim(5e17, 5e9)\n",
    "# ax.set_ylim(5e17, 5e12)\n",
    "\n",
    "# move the x-axis tick labels to the top\n",
    "ax.tick_params(axis='x', which='both', labelbottom=False, labeltop=True)\n",
    "ax.xaxis.set_label_position('top')\n",
    "# ax.set_xlabel('$\\mathrm{year}$')\n",
    "ax.set_xlim(2020, 2040)\n",
    "ax.set_xticks([2020,2025,2030,2035,2040])\n",
    "\n",
    "\n",
    "plt.savefig('../EM_missions_20yr_freq.pdf', bbox_inches='tight', transparent=True)\n",
    "\n",
    "plt.show()"
   ]
  },
  {
   "cell_type": "markdown",
   "metadata": {},
   "source": [
    "## Gravitaional wave missions"
   ]
  },
  {
   "cell_type": "code",
   "execution_count": 4,
   "metadata": {},
   "outputs": [],
   "source": [
    "# Use pandas to read excel file\n",
    "df = pd.read_excel('FutureDetectors.xlsx', header =0, \n",
    "                   sheet_name = 'Gravitational wave observations')\n",
    "# pour it into Astropy table\n",
    "GW_missions = Table.from_pandas(df)\n",
    "\n",
    "# Add some extra columns\n",
    "GW_missions['mission_start']   = GW_missions['mission_start_year'] + (GW_missions['mission_start_month']-1)/12.\n",
    "GW_missions['mission_end']     = GW_missions['mission_end_year'] + (GW_missions['mission_end_month']-1)/12.\n",
    "GW_missions['mid_mission']     = (GW_missions['mission_start'] + GW_missions['mission_end'])/2.\n",
    "GW_missions['freq_center'] = (GW_missions['freq_end']  + GW_missions['freq_start'])/2.\n",
    "\n",
    "\n",
    "# display(GW_missions)\n",
    "\n",
    "# Add SKA-era PTAs “Square-Kilometre-Array” (SKA) (e.g. Terzian & Lazio 2006).\n",
    "#     Phase 1: Providing ~10% of the total collecting area at low and mid frequencies by 2023 (SKA1).[29]\n",
    "#     Phase 2: Completion of the full array (SKA2) at low and mid frequencies by 2030.[30]\n",
    "# 70 Months From July 01, 2021  = May 01, 2027 \n",
    "# souce https://www.skao.int/en/science-users/159/scientific-timeline\n",
    "SKADR = Table()\n",
    "\n",
    "SKADR['name']  = ['SKA2']#'SKA1', \n",
    "SKADR['year']  = [2029]#2021, \n",
    "SKADR['month'] = [5]#7,   \n",
    "SKADR['date']  = SKADR['year'] + (SKADR['month']-1)/12.\n",
    "SKADR['opt_freq']     = GW_missions['opt_freq'][GW_missions['Name'] == 'PTA'] "
   ]
  },
  {
   "cell_type": "code",
   "execution_count": 5,
   "metadata": {
    "scrolled": false
   },
   "outputs": [
    {
     "data": {
      "image/png": "[encoded data removed]",
      "text/plain": [
       "<Figure size 612x432 with 1 Axes>"
      ]
     },
     "metadata": {
      "needs_background": "light"
     },
     "output_type": "display_data"
    }
   ],
   "source": [
    "\n",
    "fig, ax = plt.subplots(figsize = (8.5,6))\n",
    "\n",
    "CEET_col = '#2c93bf'\n",
    "space_col = '#029656'\n",
    "voy_col = '#53C2A3'\n",
    "O4O5_col = '#9ecc5e'\n",
    "PTA_col = '#d1c54f'\n",
    "colors = [PTA_col, O4O5_col,O4O5_col,voy_col, space_col,space_col,space_col, CEET_col, CEET_col]\n",
    "# colors = ['#B2D927', '#1E9C79','#1E9C79','#53C2A3', '#36A458', '#36A458', '#36A458', '#005931','#005931']\n",
    "\n",
    "GW_missions.sort('mission_start')\n",
    "\n",
    "############\n",
    "# plot the actual data\n",
    "for i in range(len(GW_missions)):\n",
    "    if GW_missions['Name'][i] == 'BBO':\n",
    "        continue\n",
    "    plt.errorbar((GW_missions['mission_start'][i], GW_missions['mission_end'][i]), (GW_missions['opt_freq'][i], GW_missions['opt_freq'][i]),\n",
    "             yerr = GW_missions['opt_freq'][i]*0.5, c=colors[i], lw = 5)\n",
    "    \n",
    "    # Plot the name of the mission\n",
    "    text_fact, align = 1.15, 'bottom'\n",
    "    if GW_missions['Name'][i] in ['CE', 'TianQin', 'Voyager', 'LISA']:\n",
    "        text_fact, align = 0.5, 'top' #plot below line\n",
    "    plt.text((GW_missions['mid_mission'][i]+ 3*GW_missions['mission_start'][i])/4, GW_missions['opt_freq'][i]*text_fact,\n",
    "             '$\\mathrm{%s}$'%(GW_missions['Name'][i]), c=colors[i], ha = 'center', va = align).set_clip_on(True)\n",
    "\n",
    "    \n",
    "# Add SKA DR\n",
    "plt.scatter(SKADR['date'], SKADR['opt_freq'], c = colors[0], marker = 'd', s = 100)\n",
    "plt.text(SKADR['date'], SKADR['opt_freq']*1.15, s = '$\\mathrm{%s}$'%(SKADR['name'][0]),\n",
    "         c = colors[0], fontsize = 18, rotation =20)\n",
    "    \n",
    "\n",
    "\n",
    "# plotvalues\n",
    "ax.set_ylabel('$\\mathrm{GW \\ frequency}$', fontsize = 25)\n",
    "ax.set_yscale('log')\n",
    "ax.set_ylim(1e-9, 5e3)\n",
    "ax.set_xlabel('$\\mathrm{year}$')\n",
    "ax.set_xlim(2020, 2040)\n",
    "ax.set_xticks([2020,2025,2030,2035,2040])\n",
    "\n",
    "#Remove spine\n",
    "# sns.despine(top=True, right=True, left=False, bottom=False)\n",
    "\n",
    "plt.savefig('../GW_missions_20yr.pdf', bbox_inches='tight', transparent=True)\n",
    "\n",
    "plt.show()"
   ]
  },
  {
   "cell_type": "code",
   "execution_count": null,
   "metadata": {},
   "outputs": [],
   "source": []
  }
 ],
 "metadata": {
  "kernelspec": {
   "display_name": "Python 3",
   "language": "python",
   "name": "python3"
  },
  "language_info": {
   "codemirror_mode": {
    "name": "ipython",
    "version": 3
   },
   "file_extension": ".py",
   "mimetype": "text/x-python",
   "name": "python",
   "nbconvert_exporter": "python",
   "pygments_lexer": "ipython3",
   "version": "3.7.1"
  }
 },
 "nbformat": 4,
 "nbformat_minor": 4
}
